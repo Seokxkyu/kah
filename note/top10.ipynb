{
 "cells": [
  {
   "cell_type": "code",
   "execution_count": 7,
   "id": "86163049-8075-4d42-b6db-09d052a89af8",
   "metadata": {},
   "outputs": [],
   "source": [
    "import pandas as pd"
   ]
  },
  {
   "cell_type": "code",
   "execution_count": 8,
   "id": "07f653e6-a3b5-4da0-8767-9de7b6a4e1c8",
   "metadata": {},
   "outputs": [],
   "source": [
    "df = pd.read_parquet(\"~/data/parquet/\")"
   ]
  },
  {
   "cell_type": "code",
   "execution_count": 13,
   "id": "caa57d5f-12cf-496d-999d-609678cfb559",
   "metadata": {},
   "outputs": [
    {
     "name": "stdin",
     "output_type": "stream",
     "text": [
      " 2024-07-15\n"
     ]
    }
   ],
   "source": [
    "# 날짜로 필터링\n",
    "date = input()\n",
    "fdf = df[df['dt'] == date]"
   ]
  },
  {
   "cell_type": "code",
   "execution_count": 14,
   "id": "d96c6a90-3e4b-4caf-ab10-e467e98dd4fd",
   "metadata": {},
   "outputs": [
    {
     "data": {
      "text/html": [
       "<div>\n",
       "<style scoped>\n",
       "    .dataframe tbody tr th:only-of-type {\n",
       "        vertical-align: middle;\n",
       "    }\n",
       "\n",
       "    .dataframe tbody tr th {\n",
       "        vertical-align: top;\n",
       "    }\n",
       "\n",
       "    .dataframe thead th {\n",
       "        text-align: right;\n",
       "    }\n",
       "</style>\n",
       "<table border=\"1\" class=\"dataframe\">\n",
       "  <thead>\n",
       "    <tr style=\"text-align: right;\">\n",
       "      <th></th>\n",
       "      <th>cmd</th>\n",
       "      <th>cnt</th>\n",
       "      <th>dt</th>\n",
       "    </tr>\n",
       "  </thead>\n",
       "  <tbody>\n",
       "    <tr>\n",
       "      <th>96</th>\n",
       "      <td></td>\n",
       "      <td>15</td>\n",
       "      <td>2024-07-15</td>\n",
       "    </tr>\n",
       "    <tr>\n",
       "      <th>97</th>\n",
       "      <td>#!/bin/bash</td>\n",
       "      <td>15</td>\n",
       "      <td>2024-07-15</td>\n",
       "    </tr>\n",
       "    <tr>\n",
       "      <th>98</th>\n",
       "      <td>$</td>\n",
       "      <td>47</td>\n",
       "      <td>2024-07-15</td>\n",
       "    </tr>\n",
       "    <tr>\n",
       "      <th>99</th>\n",
       "      <td>$AWS</td>\n",
       "      <td>15</td>\n",
       "      <td>2024-07-15</td>\n",
       "    </tr>\n",
       "    <tr>\n",
       "      <th>100</th>\n",
       "      <td>--version</td>\n",
       "      <td>8</td>\n",
       "      <td>2024-07-15</td>\n",
       "    </tr>\n",
       "    <tr>\n",
       "      <th>...</th>\n",
       "      <td>...</td>\n",
       "      <td>...</td>\n",
       "      <td>...</td>\n",
       "    </tr>\n",
       "    <tr>\n",
       "      <th>203</th>\n",
       "      <td>view</td>\n",
       "      <td>136</td>\n",
       "      <td>2024-07-15</td>\n",
       "    </tr>\n",
       "    <tr>\n",
       "      <th>204</th>\n",
       "      <td>vim</td>\n",
       "      <td>45</td>\n",
       "      <td>2024-07-15</td>\n",
       "    </tr>\n",
       "    <tr>\n",
       "      <th>205</th>\n",
       "      <td>~///app/savehistory</td>\n",
       "      <td>15</td>\n",
       "      <td>2024-07-15</td>\n",
       "    </tr>\n",
       "    <tr>\n",
       "      <th>206</th>\n",
       "      <td>~//app/savehistory</td>\n",
       "      <td>15</td>\n",
       "      <td>2024-07-15</td>\n",
       "    </tr>\n",
       "    <tr>\n",
       "      <th>207</th>\n",
       "      <td>~/app/savehistory</td>\n",
       "      <td>15</td>\n",
       "      <td>2024-07-15</td>\n",
       "    </tr>\n",
       "  </tbody>\n",
       "</table>\n",
       "<p>112 rows × 3 columns</p>\n",
       "</div>"
      ],
      "text/plain": [
       "                     cmd  cnt          dt\n",
       "96                         15  2024-07-15\n",
       "97           #!/bin/bash   15  2024-07-15\n",
       "98                     $   47  2024-07-15\n",
       "99                  $AWS   15  2024-07-15\n",
       "100            --version    8  2024-07-15\n",
       "..                   ...  ...         ...\n",
       "203                 view  136  2024-07-15\n",
       "204                  vim   45  2024-07-15\n",
       "205  ~///app/savehistory   15  2024-07-15\n",
       "206   ~//app/savehistory   15  2024-07-15\n",
       "207    ~/app/savehistory   15  2024-07-15\n",
       "\n",
       "[112 rows x 3 columns]"
      ]
     },
     "execution_count": 14,
     "metadata": {},
     "output_type": "execute_result"
    }
   ],
   "source": [
    "fdf"
   ]
  },
  {
   "cell_type": "code",
   "execution_count": 20,
   "id": "7e852488-df8b-45b9-b06b-b4ee6e80357a",
   "metadata": {},
   "outputs": [],
   "source": [
    "sdf = fdf.sort_values(by='cnt', ascending=False).head(10)\n",
    "ddf = sdf.drop(columns=['dt'])"
   ]
  },
  {
   "cell_type": "code",
   "execution_count": 21,
   "id": "ad6c0b5c-1203-4e34-ae20-5b28535784a8",
   "metadata": {},
   "outputs": [
    {
     "data": {
      "text/html": [
       "<div>\n",
       "<style scoped>\n",
       "    .dataframe tbody tr th:only-of-type {\n",
       "        vertical-align: middle;\n",
       "    }\n",
       "\n",
       "    .dataframe tbody tr th {\n",
       "        vertical-align: top;\n",
       "    }\n",
       "\n",
       "    .dataframe thead th {\n",
       "        text-align: right;\n",
       "    }\n",
       "</style>\n",
       "<table border=\"1\" class=\"dataframe\">\n",
       "  <thead>\n",
       "    <tr style=\"text-align: right;\">\n",
       "      <th></th>\n",
       "      <th>cmd</th>\n",
       "      <th>cnt</th>\n",
       "    </tr>\n",
       "  </thead>\n",
       "  <tbody>\n",
       "    <tr>\n",
       "      <th>152</th>\n",
       "      <td>git</td>\n",
       "      <td>1906</td>\n",
       "    </tr>\n",
       "    <tr>\n",
       "      <th>191</th>\n",
       "      <td>sudo</td>\n",
       "      <td>1238</td>\n",
       "    </tr>\n",
       "    <tr>\n",
       "      <th>133</th>\n",
       "      <td>cd</td>\n",
       "      <td>819</td>\n",
       "    </tr>\n",
       "    <tr>\n",
       "      <th>202</th>\n",
       "      <td>vi</td>\n",
       "      <td>436</td>\n",
       "    </tr>\n",
       "    <tr>\n",
       "      <th>170</th>\n",
       "      <td>mkdir</td>\n",
       "      <td>374</td>\n",
       "    </tr>\n",
       "    <tr>\n",
       "      <th>132</th>\n",
       "      <td>cat</td>\n",
       "      <td>294</td>\n",
       "    </tr>\n",
       "    <tr>\n",
       "      <th>178</th>\n",
       "      <td>pyenv</td>\n",
       "      <td>283</td>\n",
       "    </tr>\n",
       "    <tr>\n",
       "      <th>182</th>\n",
       "      <td>rm</td>\n",
       "      <td>276</td>\n",
       "    </tr>\n",
       "    <tr>\n",
       "      <th>166</th>\n",
       "      <td>ls</td>\n",
       "      <td>243</td>\n",
       "    </tr>\n",
       "    <tr>\n",
       "      <th>138</th>\n",
       "      <td>cp</td>\n",
       "      <td>240</td>\n",
       "    </tr>\n",
       "  </tbody>\n",
       "</table>\n",
       "</div>"
      ],
      "text/plain": [
       "       cmd   cnt\n",
       "152    git  1906\n",
       "191   sudo  1238\n",
       "133     cd   819\n",
       "202     vi   436\n",
       "170  mkdir   374\n",
       "132    cat   294\n",
       "178  pyenv   283\n",
       "182     rm   276\n",
       "166     ls   243\n",
       "138     cp   240"
      ]
     },
     "execution_count": 21,
     "metadata": {},
     "output_type": "execute_result"
    }
   ],
   "source": [
    "ddf"
   ]
  },
  {
   "cell_type": "code",
   "execution_count": 23,
   "id": "cd0dc9a5-2445-414b-acdd-07de13d7d8d9",
   "metadata": {},
   "outputs": [
    {
     "name": "stdout",
     "output_type": "stream",
     "text": [
      "  cmd  cnt\n",
      "  git 1906\n",
      " sudo 1238\n",
      "   cd  819\n",
      "   vi  436\n",
      "mkdir  374\n",
      "  cat  294\n",
      "pyenv  283\n",
      "   rm  276\n",
      "   ls  243\n",
      "   cp  240\n"
     ]
    }
   ],
   "source": [
    "print(ddf.to_string(index=False))"
   ]
  },
  {
   "cell_type": "code",
   "execution_count": null,
   "id": "9b7ba346-66ae-4568-840e-44c49c0bd5a9",
   "metadata": {},
   "outputs": [],
   "source": []
  }
 ],
 "metadata": {
  "kernelspec": {
   "display_name": "Python 3 (ipykernel)",
   "language": "python",
   "name": "python3"
  },
  "language_info": {
   "codemirror_mode": {
    "name": "ipython",
    "version": 3
   },
   "file_extension": ".py",
   "mimetype": "text/x-python",
   "name": "python",
   "nbconvert_exporter": "python",
   "pygments_lexer": "ipython3",
   "version": "3.11.9"
  }
 },
 "nbformat": 4,
 "nbformat_minor": 5
}
